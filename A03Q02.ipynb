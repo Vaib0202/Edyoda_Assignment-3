{
 "cells": [
  {
   "cell_type": "markdown",
   "id": "79900241",
   "metadata": {},
   "source": [
    "## Write a Python program to reverse a string.\n",
    "> Sample String : \"1234abcd\"\n",
    "\n",
    "> Expected Output : \"dcba4321\""
   ]
  },
  {
   "cell_type": "code",
   "execution_count": 12,
   "id": "e227b3b0",
   "metadata": {},
   "outputs": [
    {
     "name": "stdout",
     "output_type": "stream",
     "text": [
      "dcba4321\n"
     ]
    }
   ],
   "source": [
    "def reverse(var):\n",
    "    var_1 = var[::-1]\n",
    "    return var_1\n",
    "var = \"1234abcd\"\n",
    "print(var_1)"
   ]
  }
 ],
 "metadata": {
  "kernelspec": {
   "display_name": "Python 3 (ipykernel)",
   "language": "python",
   "name": "python3"
  },
  "language_info": {
   "codemirror_mode": {
    "name": "ipython",
    "version": 3
   },
   "file_extension": ".py",
   "mimetype": "text/x-python",
   "name": "python",
   "nbconvert_exporter": "python",
   "pygments_lexer": "ipython3",
   "version": "3.10.1"
  }
 },
 "nbformat": 4,
 "nbformat_minor": 5
}
