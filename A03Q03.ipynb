{
 "cells": [
  {
   "cell_type": "markdown",
   "id": "96ca323e",
   "metadata": {},
   "source": [
    "## Write a Python function that accepts a string and calculate the number of upper case letters and lower case letters.\n",
    "> Sample String : 'The quick Brow Fox'\n",
    "\n",
    "> Expected Output :\n",
    "- No. of Upper case characters : 3\n",
    "- No. of Lower case Characters : 12"
   ]
  },
  {
   "cell_type": "code",
   "execution_count": 9,
   "id": "6e0389b9",
   "metadata": {},
   "outputs": [
    {
     "name": "stdout",
     "output_type": "stream",
     "text": [
      "No. of Upper case characters:  3\n",
      "No. of Lower case characters:  12\n"
     ]
    }
   ],
   "source": [
    "def case_checker(var):\n",
    "    uc = 0\n",
    "    lc = 0\n",
    "    for i in var:\n",
    "        if i.isupper():\n",
    "            uc += 1\n",
    "        elif i.islower():\n",
    "            lc +=1\n",
    "    print(\"No. of Upper case characters: \",uc)\n",
    "    print(\"No. of Lower case characters: \",lc)\n",
    "case_checker(\"The quick Brow Fox\")"
   ]
  }
 ],
 "metadata": {
  "kernelspec": {
   "display_name": "Python 3 (ipykernel)",
   "language": "python",
   "name": "python3"
  },
  "language_info": {
   "codemirror_mode": {
    "name": "ipython",
    "version": 3
   },
   "file_extension": ".py",
   "mimetype": "text/x-python",
   "name": "python",
   "nbconvert_exporter": "python",
   "pygments_lexer": "ipython3",
   "version": "3.10.1"
  }
 },
 "nbformat": 4,
 "nbformat_minor": 5
}
